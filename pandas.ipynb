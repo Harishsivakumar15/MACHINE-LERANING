{
 "cells": [
  {
   "cell_type": "code",
   "execution_count": 1,
   "id": "137f9606-703b-457b-8300-962aab97d0fb",
   "metadata": {},
   "outputs": [
    {
     "name": "stdout",
     "output_type": "stream",
     "text": [
      "Series from array:\n",
      "0    P\n",
      "1    a\n",
      "2    n\n",
      "3    d\n",
      "4    a\n",
      "5    s\n",
      "dtype: object\n",
      "\n",
      "\n",
      "Series from dictionary:\n",
      "\n",
      "x    0.0\n",
      "y    1.0\n",
      "z    2.0\n",
      "dtype: float64\n",
      "\n",
      "Series using scalar\n",
      "\n",
      "0    4\n",
      "1    4\n",
      "2    4\n",
      "3    4\n",
      "dtype: int64\n"
     ]
    }
   ],
   "source": [
    "import pandas as pd\n",
    "import numpy as np\n",
    "#Creating Series from Array\n",
    "arr = np.array(['P','a','n','d','a','s'])\n",
    "a = pd.Series(arr)\n",
    "print(\"Series from array:\")\n",
    "print(a)\n",
    "\n",
    "\n",
    "\n",
    "#Series from dictionary\n",
    "arr = {'x' : 0., 'y' : 1., 'z' : 2.}\n",
    "b = pd.Series(arr)\n",
    "print(\"\\n\\nSeries from dictionary:\\n\")\n",
    "print (b)\n",
    "\n",
    "\n",
    "\n",
    "#Series using scalar\n",
    "x = pd.Series(4, index=[0, 1, 2, 3])\n",
    "print(\"\\nSeries using scalar\\n\")\n",
    "print (x)"
   ]
  },
  {
   "cell_type": "code",
   "execution_count": 2,
   "id": "42c78358-5ae8-4b9a-8b21-37d195032211",
   "metadata": {},
   "outputs": [
    {
     "name": "stdout",
     "output_type": "stream",
     "text": [
      "\n",
      "Series through index:\n",
      "a    1\n",
      "b    2\n",
      "c    3\n",
      "dtype: int64\n",
      "\n",
      " a series:\n",
      " 0    1\n",
      "1    2\n",
      "2    3\n",
      "3    4\n",
      "dtype: int64\n",
      "\n",
      "Index: \n",
      " RangeIndex(start=0, stop=4, step=1)\n",
      "\n",
      "Values: \n",
      " [1 2 3 4]\n",
      "\n",
      "Shape:  (4,)\n",
      "\n",
      "Dimension:  1\n",
      "\n",
      "Size:  4\n",
      "Empty DataFrame\n",
      "Columns: []\n",
      "Index: []\n",
      "\n",
      "Series to Data frame\n",
      "\n",
      "       Emp   ID\n",
      "0   Parker  102\n",
      "1     John  107\n",
      "2    Smith  109\n",
      "3  William  114\n",
      "\n",
      " Extracting one column :\n",
      "\n",
      "0     Parker\n",
      "1       John\n",
      "2      Smith\n",
      "3    William\n",
      "Name: Emp, dtype: object\n"
     ]
    }
   ],
   "source": [
    "#Series through index\n",
    "x = pd.Series([1,2,3],index = ['a','b','c'])\n",
    "print(\"\\nSeries through index:\")\n",
    "print (x)\n",
    "\n",
    "\n",
    "\n",
    "a=pd.Series(data=[1,2,3,4])\n",
    "print(\"\\n a series:\\n\",a)\n",
    "\n",
    "print(\"\\nIndex: \\n\",a.index)\n",
    "\n",
    "print(\"\\nValues: \\n\",a.values)\n",
    "\n",
    "print(\"\\nShape: \",a.shape)\n",
    "\n",
    "print(\"\\nDimension: \",a.ndim)\n",
    "print(\"\\nSize: \",a.size)\n",
    "\n",
    "\n",
    "#Empty DataFrame\n",
    "df = pd.DataFrame()\n",
    "print (df)\n",
    "\n",
    "\n",
    "\n",
    "emp = pd.Series(['Parker', 'John', 'Smith',\n",
    "'William'])\n",
    "id =pd.Series([102, 107, 109, 114])\n",
    "frame = { 'Emp': emp, 'ID': id }\n",
    "result = pd.DataFrame(frame)\n",
    "print(\"\\nSeries to Data frame\\n\")\n",
    "print(result)\n",
    "\n",
    "\n",
    "\n",
    "print(\"\\n Extracting one column :\\n\")\n",
    "print(result['Emp'])"
   ]
  },
  {
   "cell_type": "code",
   "execution_count": 7,
   "id": "5fbd2fbd-9619-4231-9041-98e937a15f7b",
   "metadata": {},
   "outputs": [
    {
     "name": "stdout",
     "output_type": "stream",
     "text": [
      "\n",
      "Extracting the third row:\n",
      "\n",
      "Emp    Smith\n",
      "ID       109\n",
      "Name: 2, dtype: object\n"
     ]
    }
   ],
   "source": [
    "print(\"\\nExtracting the third row:\\n\")\n",
    "print(result.loc[2])\n",
    "\n",
    "\n",
    "\n",
    "\n",
    "\n",
    "\n",
    "\n"
   ]
  },
  {
   "cell_type": "code",
   "execution_count": null,
   "id": "b1c8605a-2759-4b50-ac93-547135e97b53",
   "metadata": {},
   "outputs": [],
   "source": [
    "print(\"\\nDeleting one column:\\n\")\n",
    "del result['Age']\n",
    "print(result)\n",
    "\n",
    "\n",
    "\n",
    "print(\"\\nDeleting particular\n",
    "row:\\n\",result.drop(1))\n"
   ]
  },
  {
   "cell_type": "code",
   "execution_count": null,
   "id": "278c5fe4-6bfb-4bf0-a816-9953ce1432eb",
   "metadata": {},
   "outputs": [],
   "source": []
  },
  {
   "cell_type": "code",
   "execution_count": null,
   "id": "56583cc0-d440-4255-8b0c-39e438f4b800",
   "metadata": {},
   "outputs": [],
   "source": []
  }
 ],
 "metadata": {
  "kernelspec": {
   "display_name": "Python 3 (ipykernel)",
   "language": "python",
   "name": "python3"
  },
  "language_info": {
   "codemirror_mode": {
    "name": "ipython",
    "version": 3
   },
   "file_extension": ".py",
   "mimetype": "text/x-python",
   "name": "python",
   "nbconvert_exporter": "python",
   "pygments_lexer": "ipython3",
   "version": "3.11.7"
  }
 },
 "nbformat": 4,
 "nbformat_minor": 5
}
